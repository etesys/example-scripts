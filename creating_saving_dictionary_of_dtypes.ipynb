{
  "nbformat": 4,
  "nbformat_minor": 0,
  "metadata": {
    "colab": {
      "name": "creating_saving_dictionary_of_dtypes.ipynb",
      "provenance": [],
      "authorship_tag": "ABX9TyOfQDp8Opugqv/8Gf1370Fa",
      "include_colab_link": true
    },
    "kernelspec": {
      "name": "python3",
      "display_name": "Python 3"
    }
  },
  "cells": [
    {
      "cell_type": "markdown",
      "metadata": {
        "id": "view-in-github",
        "colab_type": "text"
      },
      "source": [
        "<a href=\"https://colab.research.google.com/github/jonrtaylor/example-scripts/blob/master/creating_saving_dictionary_of_dtypes.ipynb\" target=\"_parent\"><img src=\"https://colab.research.google.com/assets/colab-badge.svg\" alt=\"Open In Colab\"/></a>"
      ]
    },
    {
      "cell_type": "code",
      "metadata": {
        "id": "O5uyJ_YIhjZ_",
        "colab_type": "code",
        "colab": {}
      },
      "source": [
        "import pandas as pd\n",
        "import numpy as np\n",
        "from joblib import dump\n",
        "from google.colab import files\n",
        "\n",
        "#download Numerai training data and load as a pandas dataframe\n",
        "TRAINING_DATAPATH = 'https://numerai-public-datasets.s3-us-west-2.amazonaws.com/latest_numerai_training_data.csv.xz'\n",
        "df = pd.read_csv(TRAINING_DATAPATH)\n",
        "\n",
        "#create a list of the feature columns\n",
        "features = [c for c in df if c.startswith(\"feature\")]\n",
        "\n",
        "#create a list of the column names\n",
        "col_list = [\"id\", \"era\", \"data_type\"]\n",
        "col_list = col_list + features + [\"target_kazutsugi\"]\n",
        "\n",
        "#create a list of corresponding data types to match the column name list\n",
        "dtype_list_back = [np.float32] * 311\n",
        "dtype_list_front = [str, str, str]\n",
        "dtype_list = dtype_list_front + dtype_list_back\n",
        "\n",
        "#use Python's zip function to combine the column name list and the data type list\n",
        "dtype_zip = zip(col_list, dtype_list)\n",
        "\n",
        "#convert the combined list to a dictionary to conform to pandas convention\n",
        "dtype_dict = dict(dtype_zip)\n",
        "\n",
        "#save the dictionary as a joblib file for future use\n",
        "dump(dtype_dict, 'dtype_dict.joblib')"
      ],
      "execution_count": 0,
      "outputs": []
    },
    {
      "cell_type": "code",
      "metadata": {
        "id": "cBfNrGt0iX3v",
        "colab_type": "code",
        "colab": {}
      },
      "source": [
        "#download the joblib file\n",
        "files.download('dtype_dict.joblib')"
      ],
      "execution_count": 0,
      "outputs": []
    }
  ]
}